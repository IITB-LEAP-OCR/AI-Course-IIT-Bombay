{
 "cells": [
  {
   "cell_type": "code",
   "execution_count": 1,
   "metadata": {},
   "outputs": [],
   "source": [
    "import numpy as np"
   ]
  },
  {
   "cell_type": "code",
   "execution_count": 2,
   "metadata": {},
   "outputs": [],
   "source": [
    "arr1 = np.random.rand(5,5)\n",
    "arr2 = np.random.rand(5,5)"
   ]
  },
  {
   "attachments": {},
   "cell_type": "markdown",
   "metadata": {},
   "source": [
    "### matrix multiplication"
   ]
  },
  {
   "cell_type": "code",
   "execution_count": 3,
   "metadata": {},
   "outputs": [
    {
     "name": "stdout",
     "output_type": "stream",
     "text": [
      "[[1.10026784 1.11433396 0.98175071 1.26700021 1.55104979]\n",
      " [1.0940006  1.07307665 0.84038513 1.05385953 1.21785087]\n",
      " [0.76949737 1.17368096 0.92485461 1.28254421 1.02610908]\n",
      " [0.63900465 0.60244428 0.42914735 0.50821234 0.57294549]\n",
      " [1.00722682 1.18074849 0.9276191  1.29222872 1.24110222]]\n",
      "[[1.10026784 1.11433396 0.98175071 1.26700021 1.55104979]\n",
      " [1.0940006  1.07307665 0.84038513 1.05385953 1.21785087]\n",
      " [0.76949737 1.17368096 0.92485461 1.28254421 1.02610908]\n",
      " [0.63900465 0.60244428 0.42914735 0.50821234 0.57294549]\n",
      " [1.00722682 1.18074849 0.9276191  1.29222872 1.24110222]]\n",
      "[[1.10026784 1.11433396 0.98175071 1.26700021 1.55104979]\n",
      " [1.0940006  1.07307665 0.84038513 1.05385953 1.21785087]\n",
      " [0.76949737 1.17368096 0.92485461 1.28254421 1.02610908]\n",
      " [0.63900465 0.60244428 0.42914735 0.50821234 0.57294549]\n",
      " [1.00722682 1.18074849 0.9276191  1.29222872 1.24110222]]\n"
     ]
    }
   ],
   "source": [
    "print(arr1.dot(arr2))\n",
    "# or\n",
    "print(np.dot(arr1, arr2))\n",
    "# or\n",
    "print(arr1 @ arr2)"
   ]
  },
  {
   "attachments": {},
   "cell_type": "markdown",
   "metadata": {},
   "source": [
    "### QR factorization "
   ]
  },
  {
   "cell_type": "code",
   "execution_count": 4,
   "metadata": {},
   "outputs": [
    {
     "name": "stdout",
     "output_type": "stream",
     "text": [
      "[[-6.53835715e-01  2.33291965e-01 -3.57074535e-02 -5.38308560e-01\n",
      "  -4.76468874e-01]\n",
      " [-2.42242792e-04 -5.45163503e-01 -7.03420324e-01  1.81154409e-01\n",
      "  -4.18544650e-01]\n",
      " [-3.84308530e-01  1.42505489e-01 -5.56538737e-01 -7.10945188e-02\n",
      "   7.19172680e-01]\n",
      " [-7.14601975e-02 -7.56442767e-01  2.86472422e-01 -5.10461772e-01\n",
      "   2.82931283e-01]\n",
      " [-6.47841951e-01 -2.36343266e-01  3.34847743e-01  6.41701896e-01\n",
      "   2.32020113e-02]]\n",
      "[[-1.18282515 -0.8364082  -0.66327075 -0.69216038 -0.97195962]\n",
      " [ 0.         -1.15793259 -1.24897415 -0.92951405 -0.35732941]\n",
      " [ 0.          0.         -0.17521874 -0.52730589  0.09692846]\n",
      " [ 0.          0.          0.         -0.41565421 -0.55504233]\n",
      " [ 0.          0.          0.          0.         -0.05539149]]\n"
     ]
    }
   ],
   "source": [
    "arr = np.random.rand(5,5)\n",
    "\n",
    "q, r = np.linalg.qr(arr)\n",
    "print(q)\n",
    "print(r)"
   ]
  },
  {
   "attachments": {},
   "cell_type": "markdown",
   "metadata": {},
   "source": [
    "### singular value decomposition (SVD)"
   ]
  },
  {
   "cell_type": "code",
   "execution_count": 5,
   "metadata": {},
   "outputs": [
    {
     "name": "stdout",
     "output_type": "stream",
     "text": [
      "[[-0.1858383  -0.44768685  0.26520971 -0.83226926 -0.04508099]\n",
      " [-0.46190162 -0.56201704 -0.52187852  0.25879148 -0.3625652 ]\n",
      " [-0.39642822  0.64382825 -0.03651425 -0.23644237 -0.60917286]\n",
      " [-0.67095834  0.21580474 -0.14452912 -0.04984266  0.69272669]\n",
      " [-0.38048731 -0.15042218  0.796922    0.42657421 -0.12470905]]\n",
      "[2.79105013 0.9836999  0.50106868 0.11554473 0.0221589 ]\n",
      "[[-0.33572721 -0.44255026 -0.47615774 -0.47299328 -0.49090495]\n",
      " [ 0.56112103 -0.16466495 -0.67535796  0.44916698 -0.01301092]\n",
      " [ 0.04340784  0.22671839  0.25514165  0.38774276 -0.85514491]\n",
      " [-0.70439911  0.38742958 -0.4083843   0.41178188  0.13182627]\n",
      " [ 0.27270512  0.75863813 -0.29204526 -0.50459649 -0.10095573]]\n"
     ]
    }
   ],
   "source": [
    "arr = np.random.rand(5,5)\n",
    "\n",
    "u, s, v = np.linalg.svd(arr)\n",
    "print(u)\n",
    "print(s)\n",
    "print(v)"
   ]
  },
  {
   "attachments": {},
   "cell_type": "markdown",
   "metadata": {},
   "source": [
    "### compute eigen values"
   ]
  },
  {
   "cell_type": "code",
   "execution_count": 6,
   "metadata": {},
   "outputs": [
    {
     "name": "stdout",
     "output_type": "stream",
     "text": [
      "[ 2.48064968+0.j         -0.41757515+0.j         -0.13899379+0.23852809j\n",
      " -0.13899379-0.23852809j  0.05118784+0.j        ]\n"
     ]
    }
   ],
   "source": [
    "arr = np.random.rand(5,5)\n",
    "print(np.linalg.eigvals(arr))"
   ]
  },
  {
   "attachments": {},
   "cell_type": "markdown",
   "metadata": {},
   "source": [
    "### eigen value decomposition"
   ]
  },
  {
   "cell_type": "code",
   "execution_count": 7,
   "metadata": {},
   "outputs": [
    {
     "name": "stdout",
     "output_type": "stream",
     "text": [
      "[ 2.19805937  0.61608675  0.43195095 -0.34221224 -0.09799391]\n",
      "[[-0.49982166 -0.55133474 -0.04186109  0.11089852 -0.08280435]\n",
      " [-0.51361595 -0.34009678  0.46876523  0.28549728  0.24082054]\n",
      " [-0.36290473  0.44182138 -0.16042123  0.44828343  0.28954837]\n",
      " [-0.4464288  -0.53994161  0.84250038 -0.75350746 -0.92055593]\n",
      " [-0.39418073  0.30597568 -0.20727985 -0.37075773 -0.06234922]]\n"
     ]
    }
   ],
   "source": [
    "arr = np.random.rand(5,5)\n",
    "\n",
    "w, v = np.linalg.eig(arr)\n",
    "print(w)    # eigen values\n",
    "print(v)    # eigen vectors"
   ]
  },
  {
   "attachments": {},
   "cell_type": "markdown",
   "metadata": {},
   "source": [
    "### compute the trace & determinant"
   ]
  },
  {
   "cell_type": "code",
   "execution_count": 8,
   "metadata": {},
   "outputs": [
    {
     "name": "stdout",
     "output_type": "stream",
     "text": [
      "2.805890916961743\n"
     ]
    }
   ],
   "source": [
    "# notice this is not a function in linalg!!!\n",
    "print(np.trace(arr))    "
   ]
  },
  {
   "cell_type": "code",
   "execution_count": 9,
   "metadata": {},
   "outputs": [
    {
     "name": "stdout",
     "output_type": "stream",
     "text": [
      "0.019615996110603617\n"
     ]
    }
   ],
   "source": [
    "print(np.linalg.det(arr))"
   ]
  },
  {
   "attachments": {},
   "cell_type": "markdown",
   "metadata": {},
   "source": [
    "### calculate the inverse/psedo-inverse of a matrix"
   ]
  },
  {
   "cell_type": "code",
   "execution_count": 10,
   "metadata": {},
   "outputs": [],
   "source": [
    "arr = np.random.rand(5,5)"
   ]
  },
  {
   "cell_type": "code",
   "execution_count": 11,
   "metadata": {},
   "outputs": [
    {
     "name": "stdout",
     "output_type": "stream",
     "text": [
      "[[ 0.65076911 -0.43662078 -2.32688276  1.27125883  0.92255849]\n",
      " [-0.78946668  1.64649295  2.43062998  0.00610988 -2.73656234]\n",
      " [-1.01473513  0.34693783  2.65980874  0.06021902 -1.22365935]\n",
      " [-0.17798532 -0.00656649 -2.12487269  0.44880176  1.87354721]\n",
      " [ 1.97710832 -0.84845124  0.82479329 -2.19258879  1.26432108]]\n"
     ]
    }
   ],
   "source": [
    "# compute the inverse of a matrix\n",
    "print(np.linalg.inv(arr))"
   ]
  },
  {
   "cell_type": "code",
   "execution_count": 12,
   "metadata": {},
   "outputs": [
    {
     "name": "stdout",
     "output_type": "stream",
     "text": [
      "[[ 0.65076911 -0.43662078 -2.32688276  1.27125883  0.92255849]\n",
      " [-0.78946668  1.64649295  2.43062998  0.00610988 -2.73656234]\n",
      " [-1.01473513  0.34693783  2.65980874  0.06021902 -1.22365935]\n",
      " [-0.17798532 -0.00656649 -2.12487269  0.44880176  1.87354721]\n",
      " [ 1.97710832 -0.84845124  0.82479329 -2.19258879  1.26432108]]\n"
     ]
    }
   ],
   "source": [
    "# compute the psudo-inverse of a matrix\n",
    "print(np.linalg.pinv(arr))"
   ]
  },
  {
   "attachments": {},
   "cell_type": "markdown",
   "metadata": {},
   "source": [
    "### solve a linear system"
   ]
  },
  {
   "cell_type": "code",
   "execution_count": 13,
   "metadata": {},
   "outputs": [
    {
     "name": "stdout",
     "output_type": "stream",
     "text": [
      "[ 2.49470701 -3.862963    1.7811461   4.5972067   0.30583593]\n"
     ]
    }
   ],
   "source": [
    "# solve a linear system in closed form\n",
    "y = [1,2,3,4,5]\n",
    "print(np.linalg.solve(arr, y))"
   ]
  },
  {
   "cell_type": "code",
   "execution_count": 14,
   "metadata": {},
   "outputs": [
    {
     "name": "stdout",
     "output_type": "stream",
     "text": [
      "[ 2.49470701 -3.862963    1.7811461   4.5972067   0.30583593]\n",
      "[]\n",
      "5\n",
      "[2.22813681 1.06403841 0.77357806 0.27404705 0.16042712]\n"
     ]
    },
    {
     "name": "stderr",
     "output_type": "stream",
     "text": [
      "/var/folders/b1/551fs6bn4q9cs5f6pcg_7t0h0000gn/T/ipykernel_9523/727852024.py:3: FutureWarning: `rcond` parameter will change to the default of machine precision times ``max(M, N)`` where M and N are the input matrix dimensions.\n",
      "To use the future default and silence this warning we advise to pass `rcond=None`, to keep using the old, explicitly pass `rcond=-1`.\n",
      "  solution, residuals, rank, singular = np.linalg.lstsq(arr, y)\n"
     ]
    }
   ],
   "source": [
    "# calculate the least-squares solution of a linear system\n",
    "y = [1,2,3,4,5]\n",
    "solution, residuals, rank, singular = np.linalg.lstsq(arr, y)\n",
    "print(solution)\n",
    "print(residuals)\n",
    "print(rank)\n",
    "print(singular)"
   ]
  }
 ],
 "metadata": {
  "kernelspec": {
   "display_name": "Python 3",
   "language": "python",
   "name": "python3"
  },
  "language_info": {
   "codemirror_mode": {
    "name": "ipython",
    "version": 3
   },
   "file_extension": ".py",
   "mimetype": "text/x-python",
   "name": "python",
   "nbconvert_exporter": "python",
   "pygments_lexer": "ipython3",
   "version": "3.10.4"
  }
 },
 "nbformat": 4,
 "nbformat_minor": 2
}
