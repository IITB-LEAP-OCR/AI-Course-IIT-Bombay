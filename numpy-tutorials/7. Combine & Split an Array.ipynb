{
 "cells": [
  {
   "cell_type": "code",
   "execution_count": 1,
   "metadata": {},
   "outputs": [],
   "source": [
    "import numpy as np"
   ]
  },
  {
   "cell_type": "code",
   "execution_count": 2,
   "metadata": {},
   "outputs": [],
   "source": [
    "arr1 = np.array([[1,2,3,4], [1,2,3,4]])\n",
    "arr2 = np.array([[5,6,7,8], [5,6,7,8]])"
   ]
  },
  {
   "attachments": {},
   "cell_type": "markdown",
   "metadata": {},
   "source": [
    "### ```np.concatenate((a, b), axis=0)```"
   ]
  },
  {
   "cell_type": "code",
   "execution_count": 3,
   "metadata": {},
   "outputs": [
    {
     "name": "stdout",
     "output_type": "stream",
     "text": [
      "[[1 2 3 4]\n",
      " [1 2 3 4]\n",
      " [5 6 7 8]\n",
      " [5 6 7 8]]\n"
     ]
    }
   ],
   "source": [
    "# concat along the row\n",
    "cat = np.concatenate((arr1, arr2), axis=0)        \n",
    "print(cat)"
   ]
  },
  {
   "cell_type": "code",
   "execution_count": 4,
   "metadata": {},
   "outputs": [
    {
     "name": "stdout",
     "output_type": "stream",
     "text": [
      "[[1 2 3 4 5 6 7 8]\n",
      " [1 2 3 4 5 6 7 8]]\n"
     ]
    }
   ],
   "source": [
    "# concat along the column\n",
    "cat = np.concatenate((arr1, arr2), axis=1)    \n",
    "print(cat)"
   ]
  },
  {
   "attachments": {},
   "cell_type": "markdown",
   "metadata": {},
   "source": [
    "### ```np.vstack((a, b))``` \n",
    "### ```np.r_[a, b]```"
   ]
  },
  {
   "cell_type": "code",
   "execution_count": 5,
   "metadata": {},
   "outputs": [
    {
     "name": "stdout",
     "output_type": "stream",
     "text": [
      "[[1 2 3 4]\n",
      " [1 2 3 4]\n",
      " [5 6 7 8]\n",
      " [5 6 7 8]]\n"
     ]
    }
   ],
   "source": [
    "# stack arrays vertically\n",
    "cat = np.vstack((arr1, arr2))\n",
    "print(cat)"
   ]
  },
  {
   "cell_type": "code",
   "execution_count": 6,
   "metadata": {},
   "outputs": [
    {
     "name": "stdout",
     "output_type": "stream",
     "text": [
      "[[1 2 3 4]\n",
      " [1 2 3 4]\n",
      " [5 6 7 8]\n",
      " [5 6 7 8]]\n"
     ]
    }
   ],
   "source": [
    "# stack arrays vertically\n",
    "cat = np.r_[arr1, arr2]\n",
    "print(cat)"
   ]
  },
  {
   "attachments": {},
   "cell_type": "markdown",
   "metadata": {},
   "source": [
    "### ```np.hstack((a, b))```\n",
    "### ```np.c_[a, b]```"
   ]
  },
  {
   "cell_type": "code",
   "execution_count": 7,
   "metadata": {},
   "outputs": [
    {
     "name": "stdout",
     "output_type": "stream",
     "text": [
      "[[1 2 3 4 5 6 7 8]\n",
      " [1 2 3 4 5 6 7 8]]\n"
     ]
    }
   ],
   "source": [
    "# stack arrays horizontally\n",
    "cat = np.hstack((arr1, arr2))\n",
    "print(cat)"
   ]
  },
  {
   "cell_type": "code",
   "execution_count": 8,
   "metadata": {},
   "outputs": [
    {
     "name": "stdout",
     "output_type": "stream",
     "text": [
      "[[1 2 3 4 5 6 7 8]\n",
      " [1 2 3 4 5 6 7 8]]\n"
     ]
    }
   ],
   "source": [
    "# stack arrays horizontally\n",
    "cat = np.c_[arr1, arr2]\n",
    "print(cat)"
   ]
  },
  {
   "attachments": {},
   "cell_type": "markdown",
   "metadata": {},
   "source": [
    "### split an array "
   ]
  },
  {
   "cell_type": "code",
   "execution_count": 9,
   "metadata": {},
   "outputs": [],
   "source": [
    "arr = np.random.rand(6,6)"
   ]
  },
  {
   "cell_type": "code",
   "execution_count": 10,
   "metadata": {},
   "outputs": [
    {
     "name": "stdout",
     "output_type": "stream",
     "text": [
      "[array([[0.51928837, 0.75702945, 0.8869501 , 0.06154417, 0.64569548,\n",
      "        0.80590086],\n",
      "       [0.23255039, 0.00517894, 0.64068124, 0.60630284, 0.92713505,\n",
      "        0.28106229],\n",
      "       [0.89953814, 0.07969817, 0.26337217, 0.48490354, 0.80622842,\n",
      "        0.80413747]]), array([[0.27453403, 0.60053547, 0.4875841 , 0.5239318 , 0.20048652,\n",
      "        0.07798728],\n",
      "       [0.1547374 , 0.40408388, 0.91402697, 0.4308554 , 0.19387303,\n",
      "        0.18710442],\n",
      "       [0.64990805, 0.52350193, 0.84937351, 0.29894124, 0.49680501,\n",
      "        0.39490244]])]\n"
     ]
    }
   ],
   "source": [
    "# split the array vertically into n evenly spaced chunks\n",
    "arr1 = np.vsplit(arr, 2)\n",
    "print(arr1)"
   ]
  },
  {
   "cell_type": "code",
   "execution_count": 11,
   "metadata": {},
   "outputs": [
    {
     "name": "stdout",
     "output_type": "stream",
     "text": [
      "[array([[0.51928837, 0.75702945, 0.8869501 ],\n",
      "       [0.23255039, 0.00517894, 0.64068124],\n",
      "       [0.89953814, 0.07969817, 0.26337217],\n",
      "       [0.27453403, 0.60053547, 0.4875841 ],\n",
      "       [0.1547374 , 0.40408388, 0.91402697],\n",
      "       [0.64990805, 0.52350193, 0.84937351]]), array([[0.06154417, 0.64569548, 0.80590086],\n",
      "       [0.60630284, 0.92713505, 0.28106229],\n",
      "       [0.48490354, 0.80622842, 0.80413747],\n",
      "       [0.5239318 , 0.20048652, 0.07798728],\n",
      "       [0.4308554 , 0.19387303, 0.18710442],\n",
      "       [0.29894124, 0.49680501, 0.39490244]])]\n"
     ]
    }
   ],
   "source": [
    "# split the array horizontally into n evenly spaced chunks\n",
    "arr2 = np.hsplit(arr, 2)\n",
    "print(arr2)"
   ]
  }
 ],
 "metadata": {
  "kernelspec": {
   "display_name": "Python 3",
   "language": "python",
   "name": "python3"
  },
  "language_info": {
   "codemirror_mode": {
    "name": "ipython",
    "version": 3
   },
   "file_extension": ".py",
   "mimetype": "text/x-python",
   "name": "python",
   "nbconvert_exporter": "python",
   "pygments_lexer": "ipython3",
   "version": "3.10.4"
  }
 },
 "nbformat": 4,
 "nbformat_minor": 2
}
