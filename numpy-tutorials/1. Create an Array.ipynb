{
 "cells": [
  {
   "cell_type": "code",
   "execution_count": 1,
   "metadata": {},
   "outputs": [],
   "source": [
    "import numpy as np"
   ]
  },
  {
   "attachments": {},
   "cell_type": "markdown",
   "metadata": {},
   "source": [
    "### Create an array from an iterable\n",
    "Such as\n",
    "- ```list```\n",
    "- ```tuple```\n",
    "- ```range``` iterator\n",
    "\n",
    "Notice that not all iterables can be used to create a numpy array, such as ```set``` and ```dict```"
   ]
  },
  {
   "cell_type": "code",
   "execution_count": 2,
   "metadata": {},
   "outputs": [
    {
     "name": "stdout",
     "output_type": "stream",
     "text": [
      "[1 2 3 4 5]\n"
     ]
    }
   ],
   "source": [
    "arr = np.array([1,2,3,4,5])\n",
    "print(arr)"
   ]
  },
  {
   "cell_type": "code",
   "execution_count": 3,
   "metadata": {},
   "outputs": [
    {
     "name": "stdout",
     "output_type": "stream",
     "text": [
      "[1 2 3 4 5]\n"
     ]
    }
   ],
   "source": [
    "arr = np.array((1,2,3,4,5))\n",
    "print(arr)"
   ]
  },
  {
   "cell_type": "code",
   "execution_count": 4,
   "metadata": {},
   "outputs": [
    {
     "name": "stdout",
     "output_type": "stream",
     "text": [
      "[0 1 2 3 4 5 6 7 8 9]\n"
     ]
    }
   ],
   "source": [
    "arr = np.array(range(10))\n",
    "print(arr)"
   ]
  },
  {
   "attachments": {},
   "cell_type": "markdown",
   "metadata": {},
   "source": [
    "### Create an array with specified data type"
   ]
  },
  {
   "cell_type": "code",
   "execution_count": 5,
   "metadata": {},
   "outputs": [
    {
     "name": "stdout",
     "output_type": "stream",
     "text": [
      "[[1 2 3]\n",
      " [4 5 6]]\n",
      "Data Type: int16\n"
     ]
    }
   ],
   "source": [
    "arr = np.array([[1,2,3], [4,5,6]], dtype='i2')\n",
    "print(arr)\n",
    "print('Data Type: ' + str(arr.dtype))"
   ]
  },
  {
   "attachments": {},
   "cell_type": "markdown",
   "metadata": {},
   "source": [
    "### Create an aray within specified range\n",
    "```np.arange()``` method can be used to replace ```np.array(range())``` method"
   ]
  },
  {
   "cell_type": "code",
   "execution_count": 6,
   "metadata": {},
   "outputs": [
    {
     "name": "stdout",
     "output_type": "stream",
     "text": [
      "[ 0  2  4  6  8 10 12 14 16 18]\n"
     ]
    }
   ],
   "source": [
    "# np.arange(start, stop, step)\n",
    "arr = np.arange(0, 20, 2)  \n",
    "print(arr)"
   ]
  },
  {
   "attachments": {},
   "cell_type": "markdown",
   "metadata": {},
   "source": [
    "### Create an array of evenly spaced numbers within specified range\n",
    "```np.linspace(start, stop, num_of_elements, endpoint=True, retstep=False)``` has 5 parameters:\n",
    "- ```start```: start number (inclusive)\n",
    "- ```stop```: end number (inclusive unless ```endpoint``` set to ```False```)\n",
    "- ```num_of_elements```: number of elements contained in the array\n",
    "- ```endpoint```: boolean value representing whether the ```stop``` number is inclusive or not\n",
    "- ```retstep```: boolean value representing whether to return the step size"
   ]
  },
  {
   "cell_type": "code",
   "execution_count": 7,
   "metadata": {},
   "outputs": [
    {
     "name": "stdout",
     "output_type": "stream",
     "text": [
      "[0.    0.625 1.25  1.875 2.5   3.125 3.75  4.375]\n",
      "The step size is 0.625\n"
     ]
    }
   ],
   "source": [
    "arr, step_size = np.linspace(0, 5, 8, endpoint=False, retstep=True)\n",
    "print(arr)\n",
    "print('The step size is ' + str(step_size))"
   ]
  },
  {
   "attachments": {},
   "cell_type": "markdown",
   "metadata": {},
   "source": [
    "### Create an array of random values of given shape\n",
    "```np.random.rand()``` method returns values in the range [0,1)"
   ]
  },
  {
   "cell_type": "code",
   "execution_count": 8,
   "metadata": {},
   "outputs": [
    {
     "name": "stdout",
     "output_type": "stream",
     "text": [
      "[[0.40328097 0.81336602 0.10109852]\n",
      " [0.49907018 0.72132758 0.13007548]\n",
      " [0.01538306 0.14613832 0.4178766 ]]\n"
     ]
    }
   ],
   "source": [
    "arr = np.random.rand(3, 3)\n",
    "print(arr)"
   ]
  },
  {
   "attachments": {},
   "cell_type": "markdown",
   "metadata": {},
   "source": [
    "### Create an array of zeros of given shape \n",
    "- ```np.zeros()```: create array of all zeros in given shape\n",
    "- ```np.zeros_like()```: create array of all zeros with the same shape and data type as the given input array"
   ]
  },
  {
   "cell_type": "code",
   "execution_count": 9,
   "metadata": {},
   "outputs": [
    {
     "name": "stdout",
     "output_type": "stream",
     "text": [
      "[[0. 0. 0.]\n",
      " [0. 0. 0.]]\n"
     ]
    }
   ],
   "source": [
    "zeros = np.zeros((2,3))\n",
    "print(zeros)"
   ]
  },
  {
   "cell_type": "code",
   "execution_count": 10,
   "metadata": {},
   "outputs": [
    {
     "name": "stdout",
     "output_type": "stream",
     "text": [
      "[[0.+0.j 0.+0.j]\n",
      " [0.+0.j 0.+0.j]\n",
      " [0.+0.j 0.+0.j]]\n",
      "Data Type: complex64\n"
     ]
    }
   ],
   "source": [
    "arr = np.array([[1,2], [3,4],[5,6]], dtype=np.complex64)\n",
    "zeros = np.zeros_like(arr)\n",
    "print(zeros)\n",
    "print('Data Type: ' + str(zeros.dtype))"
   ]
  },
  {
   "attachments": {},
   "cell_type": "markdown",
   "metadata": {},
   "source": [
    "### Create an array of ones of given shape \n",
    "- ```np.ones()```: create array of all ones in given shape\n",
    "- ```np.ones_like()```: create array of all ones with the same shape and data type as the given input array"
   ]
  },
  {
   "cell_type": "code",
   "execution_count": 11,
   "metadata": {},
   "outputs": [
    {
     "name": "stdout",
     "output_type": "stream",
     "text": [
      "[[1. 1.]\n",
      " [1. 1.]\n",
      " [1. 1.]]\n"
     ]
    }
   ],
   "source": [
    "ones = np.ones((3,2))\n",
    "print(ones)"
   ]
  },
  {
   "cell_type": "code",
   "execution_count": 12,
   "metadata": {},
   "outputs": [
    {
     "name": "stdout",
     "output_type": "stream",
     "text": [
      "[[1 1 1]\n",
      " [1 1 1]]\n",
      "Data Type: int64\n"
     ]
    }
   ],
   "source": [
    "arr = [[1,2,3], [4,5,6]]\n",
    "ones = np.ones_like(arr)\n",
    "print(ones)\n",
    "print('Data Type: ' + str(ones.dtype))"
   ]
  },
  {
   "attachments": {},
   "cell_type": "markdown",
   "metadata": {},
   "source": [
    "### Create an empty array of given shape \n",
    "- ```np.empty()```: create array of empty values in given shape\n",
    "- ```np.empty_like()```: create array of empty values with the same shape and data type as the given input array\n",
    "\n",
    "Notice that the initial values are not necessarily set to zeroes.\n",
    "\n",
    "They are just some garbage values in random memory addresses."
   ]
  },
  {
   "cell_type": "code",
   "execution_count": 13,
   "metadata": {},
   "outputs": [
    {
     "name": "stdout",
     "output_type": "stream",
     "text": [
      "[[0. 0. 0. 0. 0.]\n",
      " [0. 0. 0. 0. 0.]\n",
      " [0. 0. 0. 0. 0.]\n",
      " [0. 0. 0. 0. 0.]\n",
      " [0. 0. 0. 0. 0.]]\n"
     ]
    }
   ],
   "source": [
    "empty = np.empty((5,5))\n",
    "print(empty)"
   ]
  },
  {
   "cell_type": "code",
   "execution_count": 14,
   "metadata": {},
   "outputs": [
    {
     "name": "stdout",
     "output_type": "stream",
     "text": [
      "[[1 2 3]\n",
      " [4 5 6]]\n",
      "Data Type: int64\n"
     ]
    }
   ],
   "source": [
    "arr = np.array([[1,2,3], [4,5,6]], dtype=np.int64)\n",
    "empty = np.empty_like(arr)\n",
    "print(empty)\n",
    "print('Data Type: ' + str(empty.dtype))"
   ]
  },
  {
   "attachments": {},
   "cell_type": "markdown",
   "metadata": {},
   "source": [
    "### Create an array of constant values of given shape  \n",
    "- ```np.full()```: create array of constant values in given shape\n",
    "- ```np.full_like()```: create array of constant values with the same shape and data type as the given input array"
   ]
  },
  {
   "cell_type": "code",
   "execution_count": 15,
   "metadata": {},
   "outputs": [
    {
     "name": "stdout",
     "output_type": "stream",
     "text": [
      "[[5 5 5 5]\n",
      " [5 5 5 5]\n",
      " [5 5 5 5]\n",
      " [5 5 5 5]]\n"
     ]
    }
   ],
   "source": [
    "full = np.full((4,4), 5)\n",
    "print(full)"
   ]
  },
  {
   "cell_type": "code",
   "execution_count": 16,
   "metadata": {},
   "outputs": [
    {
     "name": "stdout",
     "output_type": "stream",
     "text": [
      "[[5. 5.]\n",
      " [5. 5.]]\n",
      "Data Type: float64\n"
     ]
    }
   ],
   "source": [
    "arr = np.array([[1,2], [3,4]], dtype=np.float64)\n",
    "full = np.full_like(arr, 5)\n",
    "print(full)\n",
    "print('Data Type: ' + str(full.dtype))"
   ]
  },
  {
   "attachments": {},
   "cell_type": "markdown",
   "metadata": {},
   "source": [
    "### Create an identity matrix of given size\n",
    "- ```np.eye(size, k=0)```: create an identity matrix of given size\n",
    "    - ```size```: the size of the identity matrix\n",
    "    - ```k```: the diagonal offset\n",
    "- ```np.identity()```: same as ```np.eye()``` but does not carry parameters"
   ]
  },
  {
   "cell_type": "code",
   "execution_count": 17,
   "metadata": {},
   "outputs": [
    {
     "name": "stdout",
     "output_type": "stream",
     "text": [
      "[[1. 0. 0. 0. 0.]\n",
      " [0. 1. 0. 0. 0.]\n",
      " [0. 0. 1. 0. 0.]\n",
      " [0. 0. 0. 1. 0.]\n",
      " [0. 0. 0. 0. 1.]]\n"
     ]
    }
   ],
   "source": [
    "identity_matrix = np.eye(5)\n",
    "print(identity_matrix)"
   ]
  },
  {
   "cell_type": "code",
   "execution_count": 18,
   "metadata": {},
   "outputs": [
    {
     "name": "stdout",
     "output_type": "stream",
     "text": [
      "[[0. 0. 0. 0. 0.]\n",
      " [1. 0. 0. 0. 0.]\n",
      " [0. 1. 0. 0. 0.]\n",
      " [0. 0. 1. 0. 0.]\n",
      " [0. 0. 0. 1. 0.]]\n"
     ]
    }
   ],
   "source": [
    "# An example of diagonal offset\n",
    "identity_matrix = np.eye(5, k=-1)\n",
    "print(identity_matrix)"
   ]
  },
  {
   "cell_type": "code",
   "execution_count": 19,
   "metadata": {},
   "outputs": [
    {
     "name": "stdout",
     "output_type": "stream",
     "text": [
      "[[1. 0. 0. 0. 0.]\n",
      " [0. 1. 0. 0. 0.]\n",
      " [0. 0. 1. 0. 0.]\n",
      " [0. 0. 0. 1. 0.]\n",
      " [0. 0. 0. 0. 1.]]\n"
     ]
    }
   ],
   "source": [
    "identity_matrix = np.identity(5)\n",
    "print(identity_matrix)"
   ]
  }
 ],
 "metadata": {
  "kernelspec": {
   "display_name": "Python 3",
   "language": "python",
   "name": "python3"
  },
  "language_info": {
   "codemirror_mode": {
    "name": "ipython",
    "version": 3
   },
   "file_extension": ".py",
   "mimetype": "text/x-python",
   "name": "python",
   "nbconvert_exporter": "python",
   "pygments_lexer": "ipython3",
   "version": "3.10.4"
  }
 },
 "nbformat": 4,
 "nbformat_minor": 2
}
