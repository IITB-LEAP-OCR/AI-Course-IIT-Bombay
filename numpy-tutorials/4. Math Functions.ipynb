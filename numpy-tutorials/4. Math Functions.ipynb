{
 "cells": [
  {
   "cell_type": "code",
   "execution_count": 1,
   "metadata": {},
   "outputs": [],
   "source": [
    "import numpy as np"
   ]
  },
  {
   "cell_type": "code",
   "execution_count": 2,
   "metadata": {},
   "outputs": [],
   "source": [
    "arr = np.random.rand(5,5)"
   ]
  },
  {
   "attachments": {},
   "cell_type": "markdown",
   "metadata": {},
   "source": [
    "### element-wise addition, subtraction, multiplication and division"
   ]
  },
  {
   "cell_type": "code",
   "execution_count": 3,
   "metadata": {},
   "outputs": [
    {
     "name": "stdout",
     "output_type": "stream",
     "text": [
      "[[10.1400766  10.50089351 10.98811347 10.12578689 10.31610535]\n",
      " [10.18698387 10.77346802 10.98660173 10.89019729 10.69884323]\n",
      " [10.37554332 10.36318766 10.22539624 10.12884716 10.34133959]\n",
      " [10.00916831 10.40264897 10.57834082 10.83988764 10.99363865]\n",
      " [10.01677755 10.1578524  10.3583762  10.51121385 10.08735459]]\n",
      "[[-9.8599234  -9.49910649 -9.01188653 -9.87421311 -9.68389465]\n",
      " [-9.81301613 -9.22653198 -9.01339827 -9.10980271 -9.30115677]\n",
      " [-9.62445668 -9.63681234 -9.77460376 -9.87115284 -9.65866041]\n",
      " [-9.99083169 -9.59735103 -9.42165918 -9.16011236 -9.00636135]\n",
      " [-9.98322245 -9.8421476  -9.6416238  -9.48878615 -9.91264541]]\n",
      "[[1.40076596 5.00893505 9.88113474 1.25786891 3.16105348]\n",
      " [1.8698387  7.73468024 9.86601732 8.90197293 6.98843228]\n",
      " [3.75543318 3.63187662 2.25396245 1.28847157 3.41339593]\n",
      " [0.09168306 4.02648968 5.78340819 8.3988764  9.93638645]\n",
      " [0.16777547 1.57852401 3.58376204 5.11213851 0.87354592]]\n",
      "[[0.01400766 0.05008935 0.09881135 0.01257869 0.03161053]\n",
      " [0.01869839 0.0773468  0.09866017 0.08901973 0.06988432]\n",
      " [0.03755433 0.03631877 0.02253962 0.01288472 0.03413396]\n",
      " [0.00091683 0.0402649  0.05783408 0.08398876 0.09936386]\n",
      " [0.00167775 0.01578524 0.03583762 0.05112139 0.00873546]]\n"
     ]
    }
   ],
   "source": [
    "print(arr + 10)\n",
    "print(arr - 10)\n",
    "print(arr * 10)\n",
    "print(arr / 10)"
   ]
  },
  {
   "cell_type": "code",
   "execution_count": 4,
   "metadata": {},
   "outputs": [
    {
     "name": "stdout",
     "output_type": "stream",
     "text": [
      "[ 9 11 13]\n",
      "[1 2 3]\n",
      "[1 4 9]\n"
     ]
    }
   ],
   "source": [
    "# the above operations can be performed using numpy built-in functions\n",
    "# which can save memory as the output can be stored in the original array rather than assigning new memory\n",
    "arr1 = np.array([1,2,3])\n",
    "np.add(arr1, [8,9,10], out=arr1)\n",
    "print(arr1)\n",
    "\n",
    "np.subtract(arr1, [8,9,10], out=arr1)\n",
    "print(arr1)\n",
    "\n",
    "np.multiply(arr1, [1,2,3], out=arr1)\n",
    "print(arr1)"
   ]
  },
  {
   "attachments": {},
   "cell_type": "markdown",
   "metadata": {},
   "source": [
    "### element-wise exponentiation"
   ]
  },
  {
   "cell_type": "code",
   "execution_count": 5,
   "metadata": {},
   "outputs": [
    {
     "name": "stdout",
     "output_type": "stream",
     "text": [
      "[[1.15036191 1.65019507 2.68616218 1.13404047 1.37177476]\n",
      " [1.20560784 2.16726938 2.68210446 2.43561013 2.0114246 ]\n",
      " [1.45578215 1.43790567 1.25281904 1.13751625 1.40683091]\n",
      " [1.00921046 1.49578173 1.78307753 2.31610672 2.70104476]\n",
      " [1.01691908 1.17099334 1.43100387 1.66731384 1.09128357]]\n"
     ]
    }
   ],
   "source": [
    "print(np.exp(arr))"
   ]
  },
  {
   "attachments": {},
   "cell_type": "markdown",
   "metadata": {},
   "source": [
    "### element-wise logorithm"
   ]
  },
  {
   "cell_type": "code",
   "execution_count": 6,
   "metadata": {},
   "outputs": [
    {
     "name": "stdout",
     "output_type": "stream",
     "text": [
      "[[-1.96556589 -0.69136176 -0.01195774 -2.07316614 -1.15167974]\n",
      " [-1.67673292 -0.25687095 -0.01348883 -0.11631216 -0.35832884]\n",
      " [-0.97938145 -1.0128356  -1.48989534 -2.0491284  -1.07487742]\n",
      " [-4.69200278 -0.90969014 -0.54759193 -0.17448716 -0.00638167]\n",
      " [-4.08771377 -1.84609485 -1.026172   -0.67096728 -2.43777967]]\n"
     ]
    }
   ],
   "source": [
    "# natural log\n",
    "print(np.log(arr))      "
   ]
  },
  {
   "cell_type": "code",
   "execution_count": 7,
   "metadata": {},
   "outputs": [
    {
     "name": "stdout",
     "output_type": "stream",
     "text": [
      "[[-2.83571217 -0.99742419 -0.01725137 -2.99094651 -1.66152265]\n",
      " [-2.41901427 -0.37058645 -0.01946027 -0.16780298 -0.51695924]\n",
      " [-1.41294876 -1.4612129  -2.14946461 -2.95626739 -1.55072033]\n",
      " [-6.76912915 -1.31240546 -0.79000817 -0.25173176 -0.00920681]\n",
      " [-5.89732439 -2.66335189 -1.48045325 -0.96800117 -3.51697264]]\n"
     ]
    }
   ],
   "source": [
    "# base 2\n",
    "print(np.log2(arr))     "
   ]
  },
  {
   "cell_type": "code",
   "execution_count": 8,
   "metadata": {},
   "outputs": [
    {
     "name": "stdout",
     "output_type": "stream",
     "text": [
      "[[-0.85363442 -0.3002546  -0.00519318 -0.90036462 -0.50016816]\n",
      " [-0.72819586 -0.11155764 -0.00585813 -0.05051373 -0.15562024]\n",
      " [-0.42533996 -0.43986891 -0.64705332 -0.88992516 -0.46681333]\n",
      " [-2.03771092 -0.39507341 -0.23781615 -0.07577881 -0.00277153]\n",
      " [-1.77527154 -0.80174881 -0.44566084 -0.29139739 -1.05871426]]\n"
     ]
    }
   ],
   "source": [
    "# base 10\n",
    "print(np.log10(arr))    "
   ]
  },
  {
   "attachments": {},
   "cell_type": "markdown",
   "metadata": {},
   "source": [
    "### element-wise square root"
   ]
  },
  {
   "cell_type": "code",
   "execution_count": 9,
   "metadata": {},
   "outputs": [
    {
     "name": "stdout",
     "output_type": "stream",
     "text": [
      "[[0.37426808 0.7077383  0.99403897 0.35466448 0.56223247]\n",
      " [0.43241632 0.87947031 0.99327828 0.94350267 0.83596844]\n",
      " [0.61281589 0.60265053 0.47475914 0.35895286 0.58424275]\n",
      " [0.09575127 0.63454627 0.76048722 0.91645384 0.99681425]\n",
      " [0.12952817 0.39730643 0.59864531 0.7149922  0.2955581 ]]\n"
     ]
    }
   ],
   "source": [
    "print(np.sqrt(arr))"
   ]
  },
  {
   "attachments": {},
   "cell_type": "markdown",
   "metadata": {},
   "source": [
    "### element-wise sine and cosine"
   ]
  },
  {
   "cell_type": "code",
   "execution_count": 10,
   "metadata": {},
   "outputs": [
    {
     "name": "stdout",
     "output_type": "stream",
     "text": [
      "[[0.13961896 0.48020947 0.83498937 0.12545545 0.31086724]\n",
      " [0.18589619 0.69862078 0.83415656 0.77719591 0.64333251]\n",
      " [0.36677804 0.35525576 0.2234926  0.12849094 0.3347497 ]\n",
      " [0.00916818 0.39185683 0.54663534 0.74456812 0.83801693]\n",
      " [0.01677676 0.15719767 0.35075406 0.48923627 0.08724354]]\n"
     ]
    }
   ],
   "source": [
    "print(np.sin(arr))"
   ]
  },
  {
   "cell_type": "code",
   "execution_count": 11,
   "metadata": {},
   "outputs": [
    {
     "name": "stdout",
     "output_type": "stream",
     "text": [
      "[[0.9902053  0.87715384 0.55026607 0.99209925 0.95045334]\n",
      " [0.98256939 0.71549214 0.55152773 0.6292587  0.76558689]\n",
      " [0.93030848 0.93476914 0.97470563 0.99171068 0.94230708]\n",
      " [0.99995797 0.92002621 0.83737077 0.66754649 0.54564423]\n",
      " [0.99985926 0.98756716 0.93646761 0.87215129 0.99618701]]\n"
     ]
    }
   ],
   "source": [
    "print(np.cos(arr))"
   ]
  },
  {
   "attachments": {},
   "cell_type": "markdown",
   "metadata": {},
   "source": [
    "### sum along a specified axis"
   ]
  },
  {
   "cell_type": "code",
   "execution_count": 12,
   "metadata": {},
   "outputs": [
    {
     "name": "stdout",
     "output_type": "stream",
     "text": [
      "[0.72854964 2.19805056 3.13682847 2.49593283 2.43728141]\n"
     ]
    }
   ],
   "source": [
    "# sum along the row\n",
    "print(np.sum(arr, axis=0))    "
   ]
  },
  {
   "cell_type": "code",
   "execution_count": 13,
   "metadata": {},
   "outputs": [
    {
     "name": "stdout",
     "output_type": "stream",
     "text": [
      "[2.07097582 3.53609415 1.43431398 2.82368438 1.13157459]\n"
     ]
    }
   ],
   "source": [
    "# sum along the column\n",
    "print(np.sum(arr, axis=1))    "
   ]
  },
  {
   "attachments": {},
   "cell_type": "markdown",
   "metadata": {},
   "source": [
    "### compute the min and max along a specified axis"
   ]
  },
  {
   "cell_type": "code",
   "execution_count": 14,
   "metadata": {},
   "outputs": [
    {
     "name": "stdout",
     "output_type": "stream",
     "text": [
      "[0.00916831 0.1578524  0.22539624 0.12578689 0.08735459]\n"
     ]
    }
   ],
   "source": [
    "# calculate min along the row\n",
    "print(np.min(arr, axis=0))"
   ]
  },
  {
   "cell_type": "code",
   "execution_count": 15,
   "metadata": {},
   "outputs": [
    {
     "name": "stdout",
     "output_type": "stream",
     "text": [
      "[0.98811347 0.98660173 0.37554332 0.99363865 0.51121385]\n"
     ]
    }
   ],
   "source": [
    "# calculate max along the column\n",
    "print(np.max(arr, axis=1))    "
   ]
  },
  {
   "cell_type": "code",
   "execution_count": 16,
   "metadata": {},
   "outputs": [
    {
     "name": "stdout",
     "output_type": "stream",
     "text": [
      "0.9936386451958777\n",
      "0.009168305635023244\n"
     ]
    }
   ],
   "source": [
    "# if axis not specified, calculate the max/min value of all elements\n",
    "print(np.max(arr))\n",
    "print(np.min(arr))"
   ]
  },
  {
   "attachments": {},
   "cell_type": "markdown",
   "metadata": {},
   "source": [
    "### compute the indices of the min and max along a specified axis"
   ]
  },
  {
   "cell_type": "code",
   "execution_count": 17,
   "metadata": {},
   "outputs": [
    {
     "name": "stdout",
     "output_type": "stream",
     "text": [
      "[3 4 2 0 4]\n",
      "[2 1 0 1 3]\n"
     ]
    }
   ],
   "source": [
    "# along the row\n",
    "print(np.argmin(arr, axis=0))\n",
    "print(np.argmax(arr, axis=0))"
   ]
  },
  {
   "cell_type": "code",
   "execution_count": 18,
   "metadata": {},
   "outputs": [
    {
     "name": "stdout",
     "output_type": "stream",
     "text": [
      "[3 0 3 0 0]\n",
      "[2 2 0 4 3]\n"
     ]
    }
   ],
   "source": [
    "# along the column\n",
    "print(np.argmin(arr, axis=1))\n",
    "print(np.argmax(arr, axis=1))"
   ]
  },
  {
   "cell_type": "code",
   "execution_count": 19,
   "metadata": {},
   "outputs": [
    {
     "name": "stdout",
     "output_type": "stream",
     "text": [
      "15\n",
      "19\n"
     ]
    }
   ],
   "source": [
    "# if axis not specified, return the index of the flattened array\n",
    "print(np.argmin(arr))\n",
    "print(np.argmax(arr))"
   ]
  },
  {
   "attachments": {},
   "cell_type": "markdown",
   "metadata": {},
   "source": [
    "### compute element-wise min and max of two arrays"
   ]
  },
  {
   "cell_type": "code",
   "execution_count": 20,
   "metadata": {},
   "outputs": [
    {
     "name": "stdout",
     "output_type": "stream",
     "text": [
      "[1 4 5 8 9]\n",
      "[0 3 3 7 7]\n"
     ]
    }
   ],
   "source": [
    "arr1 = np.array([1, 3, 5, 7, 9])\n",
    "arr2 = np.array([0, 4, 3, 8, 7])\n",
    "print(np.maximum(arr1, arr2))\n",
    "print(np.minimum(arr1, arr2))"
   ]
  },
  {
   "attachments": {},
   "cell_type": "markdown",
   "metadata": {},
   "source": [
    "### split fractional and integral parts of a floating-point array"
   ]
  },
  {
   "cell_type": "code",
   "execution_count": 21,
   "metadata": {},
   "outputs": [
    {
     "name": "stdout",
     "output_type": "stream",
     "text": [
      "fractional:  [0.68183193 0.40788865 0.20700125 0.79291829 0.95747632 0.97762183\n",
      " 0.25926689 0.77857541 0.0142513  0.48231778]\n",
      "integral:  [1. 7. 3. 7. 3. 4. 1. 0. 8. 8.]\n"
     ]
    }
   ],
   "source": [
    "arr1 = np.random.rand(10) * 10\n",
    "re, intg = np.modf(arr1)\n",
    "print('fractional: ', re)\n",
    "print('integral: ', intg)"
   ]
  },
  {
   "attachments": {},
   "cell_type": "markdown",
   "metadata": {},
   "source": [
    "### compute the mean"
   ]
  },
  {
   "cell_type": "code",
   "execution_count": 22,
   "metadata": {},
   "outputs": [
    {
     "name": "stdout",
     "output_type": "stream",
     "text": [
      "0.4398657164341664\n"
     ]
    }
   ],
   "source": [
    "# compute the overall mean\n",
    "print(np.mean(arr))"
   ]
  },
  {
   "cell_type": "code",
   "execution_count": 23,
   "metadata": {},
   "outputs": [
    {
     "name": "stdout",
     "output_type": "stream",
     "text": [
      "[0.14570993 0.43961011 0.62736569 0.49918657 0.48745628]\n"
     ]
    }
   ],
   "source": [
    "# compute the mean along the row\n",
    "print(np.mean(arr, axis=0))   "
   ]
  },
  {
   "cell_type": "code",
   "execution_count": 24,
   "metadata": {},
   "outputs": [
    {
     "name": "stdout",
     "output_type": "stream",
     "text": [
      "[0.41419516 0.70721883 0.2868628  0.56473688 0.22631492]\n"
     ]
    }
   ],
   "source": [
    "# compute the mean along the column\n",
    "print(np.mean(arr, axis=1)) "
   ]
  },
  {
   "attachments": {},
   "cell_type": "markdown",
   "metadata": {},
   "source": [
    "### compute the median"
   ]
  },
  {
   "cell_type": "code",
   "execution_count": 25,
   "metadata": {},
   "outputs": [
    {
     "name": "stdout",
     "output_type": "stream",
     "text": [
      "0.36318766202323616\n"
     ]
    }
   ],
   "source": [
    "# compute the overall median\n",
    "print(np.median(arr))"
   ]
  },
  {
   "cell_type": "code",
   "execution_count": 26,
   "metadata": {},
   "outputs": [
    {
     "name": "stdout",
     "output_type": "stream",
     "text": [
      "[0.1400766  0.40264897 0.57834082 0.51121385 0.34133959]\n"
     ]
    }
   ],
   "source": [
    "# compute the median along the row\n",
    "print(np.median(arr, axis=0)) "
   ]
  },
  {
   "cell_type": "code",
   "execution_count": 27,
   "metadata": {},
   "outputs": [
    {
     "name": "stdout",
     "output_type": "stream",
     "text": [
      "[0.31610535 0.77346802 0.34133959 0.57834082 0.1578524 ]\n"
     ]
    }
   ],
   "source": [
    "# compute the median along the column\n",
    "print(np.median(arr, axis=1))"
   ]
  },
  {
   "attachments": {},
   "cell_type": "markdown",
   "metadata": {},
   "source": [
    "### compute the percentile"
   ]
  },
  {
   "cell_type": "code",
   "execution_count": 28,
   "metadata": {},
   "outputs": [
    {
     "name": "stdout",
     "output_type": "stream",
     "text": [
      "[0.05708343 0.53709984 0.92486189]\n"
     ]
    }
   ],
   "source": [
    "arr1 = np.random.rand(100)\n",
    "# compute 5, 65, and 95 percentiles of the array\n",
    "print(np.percentile(arr1, [5, 65, 95]))"
   ]
  },
  {
   "attachments": {},
   "cell_type": "markdown",
   "metadata": {},
   "source": [
    "### compute the standard deviation & variance"
   ]
  },
  {
   "cell_type": "code",
   "execution_count": 29,
   "metadata": {},
   "outputs": [
    {
     "name": "stdout",
     "output_type": "stream",
     "text": [
      "0.3150803398210832\n"
     ]
    }
   ],
   "source": [
    "# compute the overall standard deviation\n",
    "print(np.std(arr))"
   ]
  },
  {
   "cell_type": "code",
   "execution_count": 30,
   "metadata": {},
   "outputs": [
    {
     "name": "stdout",
     "output_type": "stream",
     "text": [
      "[0.1340342  0.2009033  0.31481033 0.33036037 0.31990549]\n"
     ]
    }
   ],
   "source": [
    "# compute the standard deviation along the row\n",
    "print(np.std(arr, axis=0))"
   ]
  },
  {
   "cell_type": "code",
   "execution_count": 31,
   "metadata": {},
   "outputs": [
    {
     "name": "stdout",
     "output_type": "stream",
     "text": [
      "[0.31775486 0.27807893 0.09529378 0.3448996  0.18248868]\n"
     ]
    }
   ],
   "source": [
    "# compute the standard deviation along the column\n",
    "print(np.std(arr, axis=1))"
   ]
  },
  {
   "cell_type": "code",
   "execution_count": 32,
   "metadata": {},
   "outputs": [
    {
     "name": "stdout",
     "output_type": "stream",
     "text": [
      "0.09927562054176928\n"
     ]
    }
   ],
   "source": [
    "# compute the overall variance\n",
    "print(np.var(arr))"
   ]
  },
  {
   "cell_type": "code",
   "execution_count": 33,
   "metadata": {},
   "outputs": [
    {
     "name": "stdout",
     "output_type": "stream",
     "text": [
      "[0.01796517 0.04036214 0.09910554 0.10913797 0.10233952]\n"
     ]
    }
   ],
   "source": [
    "# compute the variance along the row\n",
    "print(np.var(arr, axis=0))"
   ]
  },
  {
   "cell_type": "code",
   "execution_count": 34,
   "metadata": {},
   "outputs": [
    {
     "name": "stdout",
     "output_type": "stream",
     "text": [
      "[0.10096815 0.07732789 0.0090809  0.11895573 0.03330212]\n"
     ]
    }
   ],
   "source": [
    "# compute the variance along the column\n",
    "print(np.var(arr, axis=1))"
   ]
  },
  {
   "attachments": {},
   "cell_type": "markdown",
   "metadata": {},
   "source": [
    "### compute the covariance & correlation"
   ]
  },
  {
   "cell_type": "code",
   "execution_count": 35,
   "metadata": {},
   "outputs": [],
   "source": [
    "arr = np.random.rand(5,8)"
   ]
  },
  {
   "cell_type": "code",
   "execution_count": 36,
   "metadata": {},
   "outputs": [
    {
     "name": "stdout",
     "output_type": "stream",
     "text": [
      "[[ 0.11106547  0.03147986  0.00691849  0.00966515 -0.04051229]\n",
      " [ 0.03147986  0.07217646 -0.0224185  -0.01060107  0.04182017]\n",
      " [ 0.00691849 -0.0224185   0.03087738  0.0325757  -0.03391866]\n",
      " [ 0.00966515 -0.01060107  0.0325757   0.08358182 -0.00483402]\n",
      " [-0.04051229  0.04182017 -0.03391866 -0.00483402  0.0845634 ]]\n"
     ]
    }
   ],
   "source": [
    "print(np.cov(arr))"
   ]
  },
  {
   "cell_type": "code",
   "execution_count": 37,
   "metadata": {},
   "outputs": [
    {
     "name": "stdout",
     "output_type": "stream",
     "text": [
      "[[ 1.         -0.39646763]\n",
      " [-0.39646763  1.        ]]\n"
     ]
    }
   ],
   "source": [
    "print(np.corrcoef(arr[:,0], arr[:,1]))"
   ]
  },
  {
   "attachments": {},
   "cell_type": "markdown",
   "metadata": {},
   "source": [
    "### compute cumulative sum & product"
   ]
  },
  {
   "cell_type": "code",
   "execution_count": 38,
   "metadata": {},
   "outputs": [
    {
     "name": "stdout",
     "output_type": "stream",
     "text": [
      "[[0.12257902 0.44963516 0.93690939 0.50339526 0.09153582 0.1252493\n",
      "  0.79671593 0.13305871]\n",
      " [0.35122702 1.1685525  1.6700285  1.12892179 0.80566836 0.48526686\n",
      "  1.05734129 0.18273644]\n",
      " [0.70428489 1.30813837 2.2056579  1.16699546 0.99754531 0.80296417\n",
      "  1.36653834 0.70944393]\n",
      " [1.22862751 1.46052146 3.01392822 1.38412143 1.04367764 1.54444153\n",
      "  1.50053808 1.0894316 ]\n",
      " [1.62258645 2.21817696 3.27579746 2.01766404 1.71431759 2.37488451\n",
      "  1.5841245  1.22199635]]\n"
     ]
    }
   ],
   "source": [
    "# calculate the cumulative sums along the row\n",
    "print(np.cumsum(arr, axis=0))    "
   ]
  },
  {
   "cell_type": "code",
   "execution_count": 39,
   "metadata": {},
   "outputs": [
    {
     "name": "stdout",
     "output_type": "stream",
     "text": [
      "[[0.12257902 0.57221418 1.50912357 2.01251884 2.10405466 2.22930396\n",
      "  3.02601989 3.1590786 ]\n",
      " [0.228648   0.94756534 1.68068445 2.30621098 3.02034351 3.38036108\n",
      "  3.64098644 3.69066416]\n",
      " [0.35305787 0.49264374 1.02827314 1.06634681 1.25822376 1.57592107\n",
      "  1.88511812 2.41182561]\n",
      " [0.52434262 0.67672571 1.48499602 1.70212199 1.74825433 2.48973169\n",
      "  2.62373143 3.00371909]\n",
      " [0.39395894 1.15161444 1.41348369 2.0470263  2.71766624 3.54810922\n",
      "  3.63169564 3.76426039]]\n"
     ]
    }
   ],
   "source": [
    "# calculate the cumulative sums along the column\n",
    "print(np.cumsum(arr, axis=1))    "
   ]
  },
  {
   "cell_type": "code",
   "execution_count": 40,
   "metadata": {},
   "outputs": [
    {
     "name": "stdout",
     "output_type": "stream",
     "text": [
      "[[1.22579018e-01 4.49635164e-01 9.36909392e-01 5.03395263e-01\n",
      "  9.15358229e-02 1.25249297e-01 7.96715930e-01 1.33058715e-01]\n",
      " [2.80274469e-02 3.23250515e-01 6.86866182e-01 3.14887092e-01\n",
      "  6.53687091e-02 4.50919467e-02 2.07644377e-01 6.61005432e-03]\n",
      " [9.89531085e-03 4.51212043e-02 3.67905720e-01 1.19889060e-02\n",
      "  1.25427487e-02 1.43255901e-02 6.42030282e-02 3.48156515e-03]\n",
      " [5.18853319e-03 6.87570855e-03 2.97367272e-01 2.60310286e-03\n",
      "  5.78626287e-04 1.06221007e-02 8.60318946e-03 1.32295180e-03]\n",
      " [2.04406906e-03 5.20941839e-03 7.78713430e-02 1.64917658e-03\n",
      "  3.88049900e-04 8.82104898e-03 7.19109747e-04 1.75376778e-04]]\n"
     ]
    }
   ],
   "source": [
    "# calculate the cumulative product along the row\n",
    "print(np.cumprod(arr, axis=0))   "
   ]
  },
  {
   "cell_type": "code",
   "execution_count": 41,
   "metadata": {},
   "outputs": [
    {
     "name": "stdout",
     "output_type": "stream",
     "text": [
      "[[1.22579018e-01 5.51158366e-02 5.16385450e-02 2.59945989e-02\n",
      "  2.37943700e-03 2.98022811e-04 2.37439521e-04 3.15933975e-05]\n",
      " [2.28647998e-01 1.64379010e-01 1.20509394e-01 7.53818230e-02\n",
      "  5.38326122e-02 1.93806859e-02 5.05109827e-03 2.50927074e-04]\n",
      " [3.53057875e-01 4.92818906e-02 2.63968294e-02 1.00502407e-03\n",
      "  1.92840955e-04 6.12650524e-05 1.89429733e-05 9.97740599e-06]\n",
      " [5.24342617e-01 7.99009483e-02 6.45815647e-02 1.40223350e-02\n",
      "  6.46883057e-04 4.79649141e-04 6.42728628e-05 2.44228948e-05]\n",
      " [3.93958944e-01 2.98485161e-01 7.81640836e-02 4.95202775e-02\n",
      "  3.32102760e-02 2.75792407e-02 2.30524981e-03 3.05594872e-04]]\n"
     ]
    }
   ],
   "source": [
    "# calculate the cumulative product along the column\n",
    "print(np.cumprod(arr, axis=1))  "
   ]
  },
  {
   "attachments": {},
   "cell_type": "markdown",
   "metadata": {},
   "source": [
    "### element-wise comparison"
   ]
  },
  {
   "cell_type": "code",
   "execution_count": 42,
   "metadata": {},
   "outputs": [],
   "source": [
    "arr1 = np.array([1,2,3,4,5])\n",
    "arr2 = np.array([5,4,3,2,1])"
   ]
  },
  {
   "cell_type": "code",
   "execution_count": 43,
   "metadata": {},
   "outputs": [
    {
     "name": "stdout",
     "output_type": "stream",
     "text": [
      "[False False  True False False]\n",
      "[ True  True False False False]\n"
     ]
    }
   ],
   "source": [
    "# return an array of bools\n",
    "print(arr1 == arr2)    \n",
    "print(arr1 < 3)"
   ]
  }
 ],
 "metadata": {
  "kernelspec": {
   "display_name": "Python 3",
   "language": "python",
   "name": "python3"
  },
  "language_info": {
   "codemirror_mode": {
    "name": "ipython",
    "version": 3
   },
   "file_extension": ".py",
   "mimetype": "text/x-python",
   "name": "python",
   "nbconvert_exporter": "python",
   "pygments_lexer": "ipython3",
   "version": "3.10.4"
  }
 },
 "nbformat": 4,
 "nbformat_minor": 2
}
